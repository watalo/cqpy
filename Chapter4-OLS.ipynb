{
 "cells": [
  {
   "cell_type": "code",
   "execution_count": 7,
   "metadata": {},
   "outputs": [],
   "source": [
    "import pandas as pd\n",
    "import statsmodels.api as sm\n",
    "\n",
    "\n"
   ]
  },
  {
   "cell_type": "code",
   "execution_count": 20,
   "metadata": {},
   "outputs": [
    {
     "data": {
      "text/plain": [
       "(<class 'statsmodels.iolib.summary.Summary'>\n",
       " \"\"\"\n",
       "                             OLS Regression Results                            \n",
       " ==============================================================================\n",
       " Dep. Variable:                    lnw   R-squared:                       0.253\n",
       " Model:                            OLS   Adj. R-squared:                  0.252\n",
       " Method:                 Least Squares   F-statistic:                     255.7\n",
       " Date:                Sun, 28 May 2023   Prob (F-statistic):           8.52e-50\n",
       " Time:                        16:21:25   Log-Likelihood:                -323.05\n",
       " No. Observations:                 758   AIC:                             650.1\n",
       " Df Residuals:                     756   BIC:                             659.4\n",
       " Df Model:                           1                                         \n",
       " Covariance Type:            nonrobust                                         \n",
       " ==============================================================================\n",
       "                  coef    std err          t      P>|t|      [0.025      0.975]\n",
       " ------------------------------------------------------------------------------\n",
       " const          4.3915      0.082     53.481      0.000       4.230       4.553\n",
       " s              0.0966      0.006     15.991      0.000       0.085       0.108\n",
       " ==============================================================================\n",
       " Omnibus:                        1.749   Durbin-Watson:                   1.733\n",
       " Prob(Omnibus):                  0.417   Jarque-Bera (JB):                1.697\n",
       " Skew:                           0.021   Prob(JB):                        0.428\n",
       " Kurtosis:                       3.228   Cond. No.                         83.2\n",
       " ==============================================================================\n",
       " \n",
       " Notes:\n",
       " [1] Standard Errors assume that the covariance matrix of the errors is correctly specified.\n",
       " \"\"\",\n",
       " <class 'statsmodels.iolib.summary.Summary'>\n",
       " \"\"\"\n",
       "                                  OLS Regression Results                                \n",
       " =======================================================================================\n",
       " Dep. Variable:                    lnw   R-squared (uncentered):                   0.996\n",
       " Model:                            OLS   Adj. R-squared (uncentered):              0.996\n",
       " Method:                 Least Squares   F-statistic:                          8.915e+04\n",
       " Date:                Sun, 28 May 2023   Prob (F-statistic):                        0.00\n",
       " Time:                        16:21:25   Log-Likelihood:                         -323.05\n",
       " No. Observations:                 758   AIC:                                      650.1\n",
       " Df Residuals:                     756   BIC:                                      659.4\n",
       " Df Model:                           2                                                  \n",
       " Covariance Type:            nonrobust                                                  \n",
       " ==============================================================================\n",
       "                  coef    std err          t      P>|t|      [0.025      0.975]\n",
       " ------------------------------------------------------------------------------\n",
       " const          4.3915      0.082     53.481      0.000       4.230       4.553\n",
       " s              0.0966      0.006     15.991      0.000       0.085       0.108\n",
       " ==============================================================================\n",
       " Omnibus:                        1.749   Durbin-Watson:                   1.733\n",
       " Prob(Omnibus):                  0.417   Jarque-Bera (JB):                1.697\n",
       " Skew:                           0.021   Prob(JB):                        0.428\n",
       " Kurtosis:                       3.228   Cond. No.                         83.2\n",
       " ==============================================================================\n",
       " \n",
       " Notes:\n",
       " [1] R² is computed without centering (uncentered) since the model does not contain a constant.\n",
       " [2] Standard Errors assume that the covariance matrix of the errors is correctly specified.\n",
       " \"\"\")"
      ]
     },
     "execution_count": 20,
     "metadata": {},
     "output_type": "execute_result"
    }
   ],
   "source": [
    "df = pd.read_stata('./data/Finished/grilic.dta')\n",
    "y = df.lnw\n",
    "x = df.s\n",
    "x = sm.add_constant(x)  # add constant\n",
    "ols = sm.OLS(y,x)  # set model parameters\n",
    "ols2 =sm.OLS(y,x,hasconst=False) # set model parameters\n",
    "res = ols.fit()\n",
    "res2 = ols2.fit()\n",
    "res.summary(),res2.summary()"
   ]
  },
  {
   "cell_type": "code",
   "execution_count": null,
   "metadata": {},
   "outputs": [],
   "source": []
  }
 ],
 "metadata": {
  "kernelspec": {
   "display_name": "Python 3",
   "language": "python",
   "name": "python3"
  },
  "language_info": {
   "codemirror_mode": {
    "name": "ipython",
    "version": 3
   },
   "file_extension": ".py",
   "mimetype": "text/x-python",
   "name": "python",
   "nbconvert_exporter": "python",
   "pygments_lexer": "ipython3",
   "version": "3.9.6"
  },
  "orig_nbformat": 4,
  "vscode": {
   "interpreter": {
    "hash": "81794d4967e6c3204c66dcd87b604927b115b27c00565d3d43f05ba2f3a2cb0d"
   }
  }
 },
 "nbformat": 4,
 "nbformat_minor": 2
}
